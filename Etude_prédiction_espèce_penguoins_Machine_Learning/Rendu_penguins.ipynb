{
  "cells": [
    {
      "cell_type": "raw",
      "metadata": {},
      "source": [
        "---\n",
        "title: Rendu_projet\n",
        "format:\n",
        "  html:\n",
        "    code-fold: true\n",
        "    code-tools: true\n",
        "---"
      ],
      "id": "aa1108fb"
    },
    {
      "cell_type": "code",
      "metadata": {},
      "source": [
        "from palmerpenguins import load_penguins\n",
        "import plotly.express as px\n",
        "import matplotlib.pyplot as plt\n",
        "import plotly.graph_objects as go\n",
        "from plotly.subplots import make_subplots\n",
        "import pandas as pd\n",
        "import numpy as np\n",
        "import random"
      ],
      "id": "6a45e22a",
      "execution_count": null,
      "outputs": []
    },
    {
      "cell_type": "markdown",
      "metadata": {},
      "source": [
        "# Import des données\n"
      ],
      "id": "dbabae0b"
    },
    {
      "cell_type": "code",
      "metadata": {},
      "source": [
        "penguins = load_penguins()\n",
        "penguins"
      ],
      "id": "348d7163",
      "execution_count": null,
      "outputs": []
    },
    {
      "cell_type": "markdown",
      "metadata": {},
      "source": [
        "On regarde un peu ce qu'il y a dans les données et on va les visualiser\n"
      ],
      "id": "e8f8927c"
    },
    {
      "cell_type": "code",
      "metadata": {},
      "source": [
        "penguins.describe()"
      ],
      "id": "5eb72f93",
      "execution_count": null,
      "outputs": []
    },
    {
      "cell_type": "markdown",
      "metadata": {},
      "source": [
        "On regarde la proportion de chaque espèce dans le jeux de données\n"
      ],
      "id": "86554adc"
    },
    {
      "cell_type": "code",
      "metadata": {},
      "source": [
        "#| fig-cap: '**Fig.1 Représentation des espèces au sein du jeu de données**'\n",
        "\n",
        "px.pie(penguins, names = \"species\",\n",
        "            labels={\"species\" : \"Espèces\"})"
      ],
      "id": "8f6a13a0",
      "execution_count": null,
      "outputs": []
    },
    {
      "cell_type": "markdown",
      "metadata": {},
      "source": [
        "On regarde la distribution des pingouins sur les îles\n"
      ],
      "id": "bc746e79"
    },
    {
      "cell_type": "code",
      "metadata": {},
      "source": [
        "#| fig-cap: '**Fig.2 Représentation des espèces selon leur localité**'\n",
        "\n",
        "px.histogram(penguins, x = \"island\", color =\"species\",\n",
        "            labels={\"island\" : \"Localisation\"})"
      ],
      "id": "8618f0e3",
      "execution_count": null,
      "outputs": []
    },
    {
      "cell_type": "markdown",
      "metadata": {},
      "source": [
        "Est-ce qu'il y a une différence de Masse entre espèce ?\n"
      ],
      "id": "d84a2c83"
    },
    {
      "cell_type": "code",
      "metadata": {},
      "source": [
        "#| fig-cap: \"**Fig.3 Masse corporelle selon l'espèce**\"\n",
        "\n",
        "px.box(penguins, x=\"species\", y = \"body_mass_g\")"
      ],
      "id": "be6b02ee",
      "execution_count": null,
      "outputs": []
    },
    {
      "cell_type": "markdown",
      "metadata": {},
      "source": [
        "Est-ce qu'il y a une différence de Masse entre sex ?\n"
      ],
      "id": "1b7759e3"
    },
    {
      "cell_type": "code",
      "metadata": {},
      "source": [
        "#| fig-cap: \"**Fig.4 Masse corporelle selon le sex de l'individu**\"\n",
        "\n",
        "px.box(penguins, x=\"sex\", y = \"body_mass_g\")"
      ],
      "id": "2ae4e70c",
      "execution_count": null,
      "outputs": []
    },
    {
      "cell_type": "markdown",
      "metadata": {},
      "source": [
        "Est-ce qu'il y a une différence de Masse insulaire ?\n"
      ],
      "id": "6ed61bc0"
    },
    {
      "cell_type": "code",
      "metadata": {},
      "source": [
        "#| fig-cap: '**Fig.5 Masse corporelle selon la localité**'\n",
        "\n",
        "px.box(penguins, x=\"island\", y = \"body_mass_g\")"
      ],
      "id": "805abb6b",
      "execution_count": null,
      "outputs": []
    },
    {
      "cell_type": "markdown",
      "metadata": {},
      "source": [
        "On a vu que certaines données sont manquante, on va donc regarder lesquels et quels sont les lignes avec des données manquantes.\n"
      ],
      "id": "15ca3711"
    },
    {
      "cell_type": "code",
      "metadata": {},
      "source": [
        "penguins[penguins['bill_length_mm'].isna()]"
      ],
      "id": "98686f24",
      "execution_count": null,
      "outputs": []
    },
    {
      "cell_type": "code",
      "metadata": {},
      "source": [
        "penguins[penguins['sex'].isna()]"
      ],
      "id": "fd8baf55",
      "execution_count": null,
      "outputs": []
    },
    {
      "cell_type": "markdown",
      "metadata": {},
      "source": [
        "Il y a 2 lignes pour lesquels on a aucune données hormis l'espèce et la localisation et quelques autres qui ont des données manquantes dans la colonne sex, on va donc essayer de completer les données à partir de ce qu'on a déjà.\n",
        "\n",
        "D'après Gorman et al. (2014) il y a un effet de dimorphisme sexuel chez le genre *Pygoscelis.* Par conséquent il faudra inférer les données de sex en fonction des données morphologique. Il faut également traiter les espèces séparement afin d'éviter les erreurs lié à la variation interspécifique et pour avoir des individu pertinents et 'réels'. Il faut aussi voir, étant donné que les pingouins Adélies sont présents dans les 3 localités, s'il y a un effet de la localité sur les caractéristiques morphologiques des individus. En effet la compétion inter-spécifique, intra-spécifique, le nombre d'individu, les accès aux ressources ou encore la prédation qui sont des facteurs pouvant dépendre de la localisation des populations (cf. théorie des niches) et qui vont influencer les caractéristiques morpho-écologique des individus.\n",
        "\n",
        "Pour cela, nous avons construit un modèle linéaire et effectuer des ANOVA sur les variables numériques (taille des ailes, taille du bec, profondeur du bec et masse corporelle) afin de tester si les îles sont un facteur de différence interpopulationnel intraspécifique (h0 : la localisation géographique n'a pas d'effet sur les caractéristiques morphologiques des individus).\n"
      ],
      "id": "ddaa248c"
    },
    {
      "cell_type": "code",
      "metadata": {},
      "source": [
        "import pandas as pd\n",
        "import statsmodels.api as sm\n",
        "from statsmodels.formula.api import ols\n",
        "from scipy import stats\n",
        "import statsmodels.stats.api as sms\n",
        "\n",
        "# Filtrer les données pour les espèces spécifiques\n",
        "adelie = penguins[penguins['species'] == 'Adelie']\n",
        "chinstrap = penguins[penguins['species'] == 'Chinstrap']\n",
        "gentoo = penguins[penguins['species'] == 'Gentoo']\n",
        "\n",
        "print(\"Longueur ailes\")\n",
        "# Construire et ajuster le modèle de régression linéaire\n",
        "model = ols('flipper_length_mm ~ island', data=adelie).fit()\n",
        "\n",
        "# ANOVA\n",
        "anova_table = sm.stats.anova_lm(model, typ=2)\n",
        "print(\"ANOVA Table:\")\n",
        "print(anova_table)\n",
        "\n",
        "# Test de normalité des résidus (Shapiro-Wilk test)\n",
        "shapiro_test = stats.shapiro(model.resid)\n",
        "print(\"\\nShapiro-Wilk Test for Normality:\")\n",
        "print(shapiro_test)\n",
        "\n",
        "# Test de l'homoscédasticité des résidus (Breusch-Pagan test)\n",
        "bp_test = sms.het_breuschpagan(model.resid, model.model.exog)\n",
        "print(\"\\nBreusch-Pagan Test for Homoscedasticity:\")\n",
        "print(f'LM Statistic: {bp_test[0]}, p-value: {bp_test[1]}, f-value: {bp_test[2]}, f p-value: {bp_test[3]}')\n",
        "\n",
        "# Test d'indépendance des résidus (Durbin-Watson test)\n",
        "dw_test = sm.stats.durbin_watson(model.resid)\n",
        "print(\"\\nDurbin-Watson Test for Independence:\")\n",
        "print(dw_test)\n",
        "\n",
        "print(\"Longueur bec\")\n",
        "# Construire et ajuster le modèle de régression linéaire\n",
        "model = ols('bill_length_mm ~ island', data=adelie).fit()\n",
        "\n",
        "# ANOVA\n",
        "anova_table = sm.stats.anova_lm(model, typ=2)\n",
        "print(\"ANOVA Table:\")\n",
        "print(anova_table)\n",
        "\n",
        "# Test de normalité des résidus (Shapiro-Wilk test)\n",
        "shapiro_test = stats.shapiro(model.resid)\n",
        "print(\"\\nShapiro-Wilk Test for Normality:\")\n",
        "print(shapiro_test)\n",
        "\n",
        "# Test de l'homoscédasticité des résidus (Breusch-Pagan test)\n",
        "bp_test = sms.het_breuschpagan(model.resid, model.model.exog)\n",
        "print(\"\\nBreusch-Pagan Test for Homoscedasticity:\")\n",
        "print(f'LM Statistic: {bp_test[0]}, p-value: {bp_test[1]}, f-value: {bp_test[2]}, f p-value: {bp_test[3]}')\n",
        "\n",
        "# Test d'indépendance des résidus (Durbin-Watson test)\n",
        "dw_test = sm.stats.durbin_watson(model.resid)\n",
        "print(\"\\nDurbin-Watson Test for Independence:\")\n",
        "print(dw_test)\n",
        "\n",
        "\n",
        "print(\"Profondeur bec\")\n",
        "# Construire et ajuster le modèle de régression linéaire\n",
        "model = ols('bill_depth_mm ~ island', data=adelie).fit()\n",
        "\n",
        "# ANOVA\n",
        "anova_table = sm.stats.anova_lm(model, typ=2)\n",
        "print(\"ANOVA Table:\")\n",
        "print(anova_table)\n",
        "\n",
        "# Test de normalité des résidus (Shapiro-Wilk test)\n",
        "shapiro_test = stats.shapiro(model.resid)\n",
        "print(\"\\nShapiro-Wilk Test for Normality:\")\n",
        "print(shapiro_test)\n",
        "\n",
        "# Test de l'homoscédasticité des résidus (Breusch-Pagan test)\n",
        "bp_test = sms.het_breuschpagan(model.resid, model.model.exog)\n",
        "print(\"\\nBreusch-Pagan Test for Homoscedasticity:\")\n",
        "print(f'LM Statistic: {bp_test[0]}, p-value: {bp_test[1]}, f-value: {bp_test[2]}, f p-value: {bp_test[3]}')\n",
        "\n",
        "# Test d'indépendance des résidus (Durbin-Watson test)\n",
        "dw_test = sm.stats.durbin_watson(model.resid)\n",
        "print(\"\\nDurbin-Watson Test for Independence:\")\n",
        "print(dw_test)\n",
        "\n",
        "print(\"Masse\")\n",
        "# Construire et ajuster le modèle de régression linéaire\n",
        "model = ols('body_mass_g ~ island', data=adelie).fit()\n",
        "\n",
        "# ANOVA\n",
        "anova_table = sm.stats.anova_lm(model, typ=2)\n",
        "print(\"ANOVA Table:\")\n",
        "print(anova_table)\n",
        "\n",
        "# Test de normalité des résidus (Shapiro-Wilk test)\n",
        "shapiro_test = stats.shapiro(model.resid)\n",
        "print(\"\\nShapiro-Wilk Test for Normality:\")\n",
        "print(shapiro_test)\n",
        "\n",
        "# Test de l'homoscédasticité des résidus (Breusch-Pagan test)\n",
        "bp_test = sms.het_breuschpagan(model.resid, model.model.exog)\n",
        "print(\"\\nBreusch-Pagan Test for Homoscedasticity:\")\n",
        "print(f'LM Statistic: {bp_test[0]}, p-value: {bp_test[1]}, f-value: {bp_test[2]}, f p-value: {bp_test[3]}')\n",
        "\n",
        "# Test d'indépendance des résidus (Durbin-Watson test)\n",
        "dw_test = sm.stats.durbin_watson(model.resid)\n",
        "print(\"\\nDurbin-Watson Test for Independence:\")\n",
        "print(dw_test)"
      ],
      "id": "200426e0",
      "execution_count": null,
      "outputs": []
    },
    {
      "cell_type": "markdown",
      "metadata": {},
      "source": [
        "D'après les tests, on ne rejette pas h0 car les p-value \\> 0.05 pour les 4 variables et les 4 modèles sont ajustés donc il n'y a pas d'effet de la localisation des populations sur leurs caractéristiques morphologiques pour l'espèce Adélie.\n",
        "\n",
        "## Remplissage des lignes avec des valeurs manquantes\n"
      ],
      "id": "b9383c85"
    },
    {
      "cell_type": "code",
      "metadata": {},
      "source": [
        "Adelie = penguins.loc[(penguins['species'] == \"Adelie\")]"
      ],
      "id": "b6874668",
      "execution_count": null,
      "outputs": []
    },
    {
      "cell_type": "markdown",
      "metadata": {},
      "source": [
        "Afin de voir plus globalement le dimorphisme sexuel présent chez le genre *Pygoscelis*, nous avons fait des boxplot comparatif entre mâle et femelle pour chaque espèce.\n"
      ],
      "id": "ba88cba7"
    },
    {
      "cell_type": "code",
      "metadata": {},
      "source": [
        "#| fig-cap: \"**Fig.6 Boxplot des différentes variables morphologiques pour l'espèce Adélie (*Pygoscelis adeliae*)**\"\n",
        "\n",
        "\n",
        "fig = make_subplots(rows=2, cols=2,\n",
        "                    subplot_titles=(\"Bill Length by Sex\", \"Bill Depth by Sex\",\n",
        "                                    \"Flipper Length by Sex\", \"Body Mass by Sex\"))\n",
        "\n",
        "fig.add_trace(px.box(Adelie, x='sex', y='bill_length_mm', color='sex').data[1], row=1, col=1)\n",
        "fig.add_trace(px.box(Adelie, x='sex', y='bill_length_mm', color='sex').data[0], row=1, col=1)\n",
        "\n",
        "fig.add_trace(px.box(Adelie, x='sex', y='bill_depth_mm', color='sex').data[1], row=1, col=2)\n",
        "fig.add_trace(px.box(Adelie, x='sex', y='bill_depth_mm', color='sex').data[0], row=1, col=2)\n",
        "\n",
        "fig.add_trace(px.box(Adelie, x='sex', y='flipper_length_mm', color='sex').data[1], row=2, col=1)\n",
        "fig.add_trace(px.box(Adelie, x='sex', y='flipper_length_mm', color='sex').data[0], row=2, col=1)\n",
        "\n",
        "fig.add_trace(px.box(Adelie, x='sex', y='body_mass_g', color='sex').data[1], row=2, col=2)\n",
        "fig.add_trace(px.box(Adelie, x='sex', y='body_mass_g', color='sex').data[0], row=2, col=2)\n",
        "\n",
        "fig.update_layout(title_text=\"Adelie Penguins Measurements by Sex\")\n",
        "\n",
        "fig.show()"
      ],
      "id": "8d0cbae4",
      "execution_count": null,
      "outputs": []
    },
    {
      "cell_type": "code",
      "metadata": {},
      "source": [
        "Gentoo = penguins.loc[(penguins['species'] == \"Gentoo\")]"
      ],
      "id": "5aa6ce8f",
      "execution_count": null,
      "outputs": []
    },
    {
      "cell_type": "code",
      "metadata": {
        "width": "80vw"
      },
      "source": [
        "#| fig-cap: '**Fig.6 Boxplot des différentes variables morphologiques pour l''espèce Gentoo(*Pygoscelis papua*)**'\n",
        "\n",
        "fig = make_subplots(rows=2, cols=2,\n",
        "                    subplot_titles=(\"Bill Length by Sex\", \"Bill Depth by Sex\",\n",
        "                                    \"Flipper Length by Sex\", \"Body Mass by Sex\"))\n",
        "\n",
        "fig.add_trace(px.box(Gentoo, x='sex', y='bill_length_mm', color='sex').data[0], row=1, col=1)\n",
        "fig.add_trace(px.box(Gentoo, x='sex', y='bill_length_mm', color='sex').data[1], row=1, col=1)\n",
        "\n",
        "fig.add_trace(px.box(Gentoo, x='sex', y='bill_depth_mm', color='sex').data[0], row=1, col=2)\n",
        "fig.add_trace(px.box(Gentoo, x='sex', y='bill_depth_mm', color='sex').data[1], row=1, col=2)\n",
        "\n",
        "fig.add_trace(px.box(Gentoo, x='sex', y='flipper_length_mm', color='sex').data[0], row=2, col=1)\n",
        "fig.add_trace(px.box(Gentoo, x='sex', y='flipper_length_mm', color='sex').data[1], row=2, col=1)\n",
        "\n",
        "fig.add_trace(px.box(Gentoo, x='sex', y='body_mass_g', color='sex').data[0], row=2, col=2)\n",
        "fig.add_trace(px.box(Gentoo, x='sex', y='body_mass_g', color='sex').data[1], row=2, col=2)\n",
        "\n",
        "fig.update_layout(title_text=\"Gentoo Penguins Measurements by Sex\")\n",
        "\n",
        "fig.show()"
      ],
      "id": "2383b4d5",
      "execution_count": null,
      "outputs": []
    },
    {
      "cell_type": "code",
      "metadata": {},
      "source": [
        "Chinstrap = penguins.loc[(penguins['species'] == \"Chinstrap\")]"
      ],
      "id": "50940555",
      "execution_count": null,
      "outputs": []
    },
    {
      "cell_type": "code",
      "metadata": {
        "width": "80vw"
      },
      "source": [
        "#| fig-cap: '**Fig.6 Boxplot des différentes variables morphologiques pour l''espèce Chinstrap(*Pygoscelis antarcticus*)**'\n",
        "\n",
        "fig = make_subplots(rows=2, cols=2,\n",
        "                    subplot_titles=(\"Bill Length by Sex\", \"Bill Depth by Sex\",\n",
        "                                    \"Flipper Length by Sex\", \"Body Mass by Sex\"))\n",
        "\n",
        "fig.add_trace(px.box(Chinstrap, x='sex', y='bill_length_mm', color='sex').data[0], row=1, col=1)\n",
        "fig.add_trace(px.box(Chinstrap, x='sex', y='bill_length_mm', color='sex').data[1], row=1, col=1)\n",
        "\n",
        "fig.add_trace(px.box(Chinstrap, x='sex', y='bill_depth_mm', color='sex').data[0], row=1, col=2)\n",
        "fig.add_trace(px.box(Chinstrap, x='sex', y='bill_depth_mm', color='sex').data[1], row=1, col=2)\n",
        "\n",
        "fig.add_trace(px.box(Chinstrap, x='sex', y='flipper_length_mm', color='sex').data[0], row=2, col=1)\n",
        "fig.add_trace(px.box(Chinstrap, x='sex', y='flipper_length_mm', color='sex').data[1], row=2, col=1)\n",
        "\n",
        "fig.add_trace(px.box(Chinstrap, x='sex', y='body_mass_g', color='sex').data[0], row=2, col=2)\n",
        "fig.add_trace(px.box(Chinstrap, x='sex', y='body_mass_g', color='sex').data[1], row=2, col=2)\n",
        "\n",
        "fig.update_layout(title_text=\"Chinstrap Penguins Measurements by Sex\")\n",
        "\n",
        "fig.show()"
      ],
      "id": "9b53e28c",
      "execution_count": null,
      "outputs": []
    },
    {
      "cell_type": "markdown",
      "metadata": {},
      "source": [
        "Puis nous avons fait une comparaison pour chaque variable entre chaque espèce et chaque sex.\n"
      ],
      "id": "e03a8acc"
    },
    {
      "cell_type": "code",
      "metadata": {},
      "source": [
        "#| fig-cap: \"**Fig.7 Variabilité de la taille du bec pour chaque espèce et chaque par sexe**\"\n",
        "\n",
        "px.box(penguins, x='sex', y='bill_length_mm', facet_col='species', color='sex')"
      ],
      "id": "dd76e922",
      "execution_count": null,
      "outputs": []
    },
    {
      "cell_type": "code",
      "metadata": {},
      "source": [
        "#| fig-cap: \"**Fig.8 Variabilité de la profondeur du bec pour chaque espèce et chaque par sex**\"\n",
        "\n",
        "px.box(penguins, x='sex', y='bill_depth_mm', facet_col='species', color='sex')"
      ],
      "id": "c10f3144",
      "execution_count": null,
      "outputs": []
    },
    {
      "cell_type": "code",
      "metadata": {},
      "source": [
        "#| fig-cap: \"**Fig.9 Variabilité de la taille des ailes pour chaque espèce et chaque par sex**\"\n",
        "\n",
        "px.box(penguins, x='sex', y='flipper_length_mm', facet_col='species', color='sex')"
      ],
      "id": "3e1c4f10",
      "execution_count": null,
      "outputs": []
    },
    {
      "cell_type": "code",
      "metadata": {},
      "source": [
        "#| fig-cap: \"**Fig.10 Variabilité de la masse corporelle pour chaque espèce et chaque par sex**\"\n",
        "\n",
        "px.box(penguins, x='sex', y='body_mass_g', facet_col='species', color='sex')"
      ],
      "id": "f4d87e1f",
      "execution_count": null,
      "outputs": []
    },
    {
      "cell_type": "markdown",
      "metadata": {},
      "source": [
        "Après avoir explorer les données, nous pouvons maitenant remplir les lignes avec des cellules vides.\n",
        "\n",
        "Tout d'abord nous remplissons le sexe en fonction de la masse corporelle chez les pingouins Adélie puis chez Gentoo. Si la masse est supérieur au Q1 des mâles alors c'est un mâle si elle est inférieur au Q3 des femelle alors c'est une femelle. s'il reste des valeurs manquante, alors on défini une zone plus centrale correspondant à la moyenne entre Q1-mâle et Q3-femelle.\n"
      ],
      "id": "a4777f9f"
    },
    {
      "cell_type": "code",
      "metadata": {},
      "source": [
        "#? Calcul des quantiles (= bornes pour déterminer )\n",
        "Q1_adelie_male = np.percentile(penguins[\"body_mass_g\"].loc[(penguins[\"sex\"]==\"male\") & (penguins['species'] == 'Adelie')], 25)\n",
        "Q3_adelie_male = np.percentile(penguins[\"body_mass_g\"].loc[(penguins[\"sex\"]==\"male\") & (penguins['species'] == 'Adelie')], 75)\n",
        "\n",
        "Q1_adelie_female = np.percentile(penguins[\"body_mass_g\"].loc[(penguins[\"sex\"]==\"female\") & (penguins['species'] == 'Adelie')], 25)\n",
        "Q3_adelie_female = np.percentile(penguins[\"body_mass_g\"].loc[(penguins[\"sex\"]==\"female\") & (penguins['species'] == 'Adelie')], 75)\n",
        "\n",
        "#?MOYENNE\n",
        "mean_mass_adelie = np.mean([Q3_adelie_female, Q1_adelie_male])"
      ],
      "id": "09453c3e",
      "execution_count": null,
      "outputs": []
    },
    {
      "cell_type": "code",
      "metadata": {},
      "source": [
        "# On remplie les lignes qui ont seulement un NaN pour le sex pour les Adelie\n",
        "\n",
        "penguins.loc[(penguins[\"sex\"].isna()) & (penguins['species'] == 'Adelie') & (penguins[\"body_mass_g\"] <= Q3_adelie_female), \"sex\"] = \"female\"\n",
        "penguins.loc[(penguins[\"sex\"].isna()) & (penguins['species'] == 'Adelie') & (penguins[\"body_mass_g\"] >= Q1_adelie_male), \"sex\"] = \"male\"\n",
        "\n",
        "penguins.loc[(penguins[\"sex\"].isna()) & (penguins['species'] == 'Adelie') & (penguins[\"body_mass_g\"] > mean_mass_adelie), \"sex\"] = \"male\"\n",
        "penguins.loc[(penguins[\"sex\"].isna()) & (penguins['species'] == 'Adelie') & (penguins[\"body_mass_g\"] < mean_mass_adelie), \"sex\"] = \"female\""
      ],
      "id": "9028f31e",
      "execution_count": null,
      "outputs": []
    },
    {
      "cell_type": "code",
      "metadata": {},
      "source": [
        "penguins[penguins['sex'].isna()]"
      ],
      "id": "f91de885",
      "execution_count": null,
      "outputs": []
    },
    {
      "cell_type": "code",
      "metadata": {},
      "source": [
        "Q1_gentoo_male = np.percentile(penguins[\"body_mass_g\"].loc[(penguins[\"sex\"]==\"male\") & (penguins['species'] == 'Gentoo')], 25)\n",
        "Q3_gentoo_male = np.percentile(penguins[\"body_mass_g\"].loc[(penguins[\"sex\"]==\"male\") & (penguins['species'] == 'Gentoo')], 75)\n",
        "\n",
        "Q1_gentoo_female = np.percentile(penguins[\"body_mass_g\"].loc[(penguins[\"sex\"]==\"female\") & (penguins['species'] == 'Gentoo')], 25)\n",
        "Q3_gentoo_female = np.percentile(penguins[\"body_mass_g\"].loc[(penguins[\"sex\"]==\"female\") & (penguins['species'] == 'Gentoo')], 75)"
      ],
      "id": "05f55f51",
      "execution_count": null,
      "outputs": []
    },
    {
      "cell_type": "code",
      "metadata": {},
      "source": [
        "## On remplie les lignes qui ont seulement un NaN pour le sex pour les Gentoo\n",
        "penguins.loc[(penguins[\"sex\"].isna()) & (penguins['species'] == 'Gentoo') & (penguins[\"body_mass_g\"] <= Q3_gentoo_female), \"sex\"] = \"female\"\n",
        "penguins.loc[(penguins[\"sex\"].isna()) & (penguins['species'] == 'Gentoo') & (penguins[\"body_mass_g\"] >= Q1_gentoo_male), \"sex\"] = \"male\""
      ],
      "id": "12732d3b",
      "execution_count": null,
      "outputs": []
    },
    {
      "cell_type": "code",
      "metadata": {},
      "source": [
        "penguins[penguins['sex'].isna()]"
      ],
      "id": "a36e21a2",
      "execution_count": null,
      "outputs": []
    },
    {
      "cell_type": "markdown",
      "metadata": {},
      "source": [
        "Ainsi nos pingouins asexués ont maintenant un sexe défini sur leurs paramètres morphologiques.\n",
        "\n",
        "Il faut encore remplir nos 2 lignes entièrement vide, pour cela on va leur atribuer aléatoirement un sexe puis leur attribué des caractéristiques morphologiques moyenne selon leur sexe et leur espèce.\n"
      ],
      "id": "5421fb79"
    },
    {
      "cell_type": "code",
      "metadata": {},
      "source": [
        "# On traite les lignes entièrement NaN\n",
        "\n",
        "penguins.loc[(penguins[\"sex\"].isna()), \"sex\"] = random.choice([\"female\", \"male\"])"
      ],
      "id": "bf549fa1",
      "execution_count": null,
      "outputs": []
    },
    {
      "cell_type": "code",
      "metadata": {},
      "source": [
        "penguins[penguins['body_mass_g'].isna()]"
      ],
      "id": "9935689e",
      "execution_count": null,
      "outputs": []
    },
    {
      "cell_type": "code",
      "metadata": {},
      "source": [
        "#? Remplacement des valeurs NaN restantes dans les colonnes de métriques par leur moyenne par sous dataframe en fonction du sexe\n",
        "#? Liste des colonnes à réévaluer\n",
        "colunms = ['bill_length_mm', 'bill_depth_mm','flipper_length_mm', 'body_mass_g']\n",
        "\n",
        "\n",
        "for col in colunms :\n",
        "    #!Valeurs moyennes de l'item pour le sex = male\n",
        "    mean_item_male_adelie = penguins[f\"{col}\"].loc[(penguins['species'] == 'Adelie') & (penguins[\"sex\"]==\"male\")].mean()\n",
        "    mean_item_male_gentoo = penguins[f\"{col}\"].loc[(penguins['species'] == 'Gentoo') & (penguins[\"sex\"]==\"male\")].mean()\n",
        "\n",
        "    #!Valeurs moyennes de l'item pour le sex = female\n",
        "    mean_item_female_adelie = penguins[f\"{col}\"].loc[(penguins['species'] == 'Adelie') & (penguins[\"sex\"]==\"female\")].mean()\n",
        "    mean_item_female_gentoo = penguins[f\"{col}\"].loc[(penguins['species'] == 'Gentoo') & (penguins[\"sex\"]==\"female\")].mean()\n",
        "\n",
        "    #?replacement par sous dataframe\n",
        "    #! adelie\n",
        "    penguins.loc[(penguins[f\"{col}\"].isna()) # l'item est vide\n",
        "        & (penguins['species'] == 'Adelie')\n",
        "        & (penguins[\"sex\"]==\"female\") , # le sex est \"female\"\n",
        "        f\"{col}\"#remplacement de l'item par sa moyenne selon le critère du sexe\n",
        "    ] = mean_item_female_adelie\n",
        "\n",
        "    penguins.loc[\n",
        "        (penguins[f\"{col}\"].isna())# l'item est vide\n",
        "        & (penguins['species'] == 'Adelie')\n",
        "        & (penguins[\"sex\"]==\"male\") ,# le sex est \"male\"\n",
        "        f\"{col}\" #remplacement de l'item par sa moyenne selon le critère du sexe\n",
        "    ]= mean_item_male_adelie\n",
        "\n",
        "    #! gentoo\n",
        "    penguins.loc[\n",
        "        (penguins[f\"{col}\"].isna())# l'item est vide\n",
        "        & (penguins['species'] == 'Gentoo')\n",
        "        & (penguins[\"sex\"]==\"female\") ,# le sex est \"female\"\n",
        "        f\"{col}\"#remplacement de l'item par sa moyenne selon le critère du sexe\n",
        "    ]= mean_item_female_gentoo\n",
        "\n",
        "    penguins.loc[\n",
        "        (penguins[f\"{col}\"].isna())# l'item est vide\n",
        "        & (penguins['species'] == 'Gentoo')\n",
        "        & (penguins[\"sex\"]==\"male\") ,# le sex est \"male\"\n",
        "        f\"{col}\"#remplacement de l'item par sa moyenne selon le critère du sexe\n",
        "    ]= mean_item_male_gentoo"
      ],
      "id": "92dc7278",
      "execution_count": null,
      "outputs": []
    },
    {
      "cell_type": "markdown",
      "metadata": {},
      "source": [
        "Ainsi nous nous retrouvons avec un jeu de donnée complet de 344 individu et 3 espèces.\n"
      ],
      "id": "b72dd986"
    },
    {
      "cell_type": "code",
      "metadata": {},
      "source": [
        "penguins.iloc[[3,271]]"
      ],
      "id": "51541b2d",
      "execution_count": null,
      "outputs": []
    },
    {
      "cell_type": "markdown",
      "metadata": {},
      "source": [
        "# Machine Learning\n",
        "\n",
        "On cherche à prédire l'espèce du pengouins selon ses caractéristiques morphologiques. Donc on a une variable cible (l'espèce) qui est catégorielle. On va donc procéder à un apprentissage supervisé de Classification.\n"
      ],
      "id": "1a8daa36"
    },
    {
      "cell_type": "code",
      "metadata": {},
      "source": [
        "penguins_study = penguins.copy()"
      ],
      "id": "b3ad81ec",
      "execution_count": null,
      "outputs": []
    },
    {
      "cell_type": "markdown",
      "metadata": {},
      "source": [
        "afin d'avoir des colonne de sexe en TRUE/FALSE, on effectue d'abord un get_dummies de la librairie Pandas.\n"
      ],
      "id": "5a68f4cf"
    },
    {
      "cell_type": "code",
      "metadata": {},
      "source": [
        "dummy_sex = pd.get_dummies(penguins_study['sex'], prefix='sex')\n",
        "penguins_study = penguins_study.drop(['island', 'year', 'sex'], axis=1)\n",
        "penguins_study = pd.concat([penguins_study, dummy_sex], axis = 1)\n",
        "penguins_study"
      ],
      "id": "35299749",
      "execution_count": null,
      "outputs": []
    },
    {
      "cell_type": "markdown",
      "metadata": {},
      "source": [
        "On peut a présent construire le test pour pouvoir entrainer notre modèle.\n",
        "\n",
        "On cherche à déterminer une espèce selon les caractéristiques morphologique d'un individu, l'espèce est donc notre variable cible comme précisé précédemment. On construit donc les jeux de données d'entrainement et de test sur cette base (nous avons ignoré la variable island dans les variable explicatives bien qu'elle soit discriminante pour déterminé certaines espèces, nous ne nous interessons que aux données morphologiques).\n"
      ],
      "id": "d5c342b8"
    },
    {
      "cell_type": "code",
      "metadata": {},
      "source": [
        "from sklearn.model_selection import train_test_split\n",
        "\n",
        "X_train, X_test, y_train, y_test = train_test_split(\n",
        "    penguins_study[['bill_length_mm', 'bill_depth_mm', 'flipper_length_mm', 'body_mass_g', 'sex_female', 'sex_male']],\n",
        "    penguins_study['species'],\n",
        "    test_size=0.33,\n",
        "    random_state=42\n",
        "    )"
      ],
      "id": "562f6085",
      "execution_count": null,
      "outputs": []
    },
    {
      "cell_type": "markdown",
      "metadata": {},
      "source": [
        "Etant donnée que la variable cible est défini et qu'elle est catégorielle, nous faisons un arbre de décision de classification.\n"
      ],
      "id": "63d1ec62"
    },
    {
      "cell_type": "code",
      "metadata": {},
      "source": [
        "from sklearn.tree import DecisionTreeClassifier"
      ],
      "id": "9ee5106a",
      "execution_count": null,
      "outputs": []
    },
    {
      "cell_type": "markdown",
      "metadata": {},
      "source": [
        "Il faut construire et entrainer le modèle, tout d'abord nous fixons la profondeur maximale à 2 (arbitraire) afin de voir un premier jet de ce qui peut être obtenu.\n"
      ],
      "id": "e34c04ca"
    },
    {
      "cell_type": "code",
      "metadata": {},
      "source": [
        "model = DecisionTreeClassifier(max_depth=2)\n",
        "model.fit(X_train, y_train)"
      ],
      "id": "cdae2ca7",
      "execution_count": null,
      "outputs": []
    },
    {
      "cell_type": "code",
      "metadata": {},
      "source": [
        "#| fig-cap: \"**Fig.11 Arbre obtenu avec un profondeur max de 2**\"\n",
        "\n",
        "from sklearn.tree import plot_tree\n",
        "\n",
        "# agrandissement de la taille du graphique\n",
        "fig = plt.figure(figsize=(10, 6))\n",
        "_ = plot_tree(model,\n",
        "          feature_names=model.feature_names_in_,\n",
        "          filled=True,\n",
        "          rounded=True,\n",
        "          fontsize=10)"
      ],
      "id": "5efea375",
      "execution_count": null,
      "outputs": []
    },
    {
      "cell_type": "markdown",
      "metadata": {},
      "source": [
        "On arrive à obtenir un arbre mais pas satisfaisant (tout les individus ne sont pas classés)\n",
        "\n",
        "On va donc regarder quelle est la profondeur otpimale pour avoir l'accuracy la plus élevé possible.\n"
      ],
      "id": "60f18a24"
    },
    {
      "cell_type": "code",
      "metadata": {},
      "source": [
        "from sklearn.metrics import accuracy_score\n",
        "\n",
        "accuracy_list = []\n",
        "\n",
        "for depth in range(2,11):\n",
        "    model = DecisionTreeClassifier(max_depth=depth)\n",
        "    model.fit(X_train, y_train)\n",
        "    y_pred = model.predict(X_test)\n",
        "    accuracy_result = accuracy_score(y_test, y_pred)\n",
        "\n",
        "    accuracy_list.append({'Max_depth': depth, 'Accuracy': accuracy_result})\n",
        "\n",
        "df = pd.DataFrame(accuracy_list)\n",
        "df"
      ],
      "id": "34bc8696",
      "execution_count": null,
      "outputs": []
    },
    {
      "cell_type": "code",
      "metadata": {},
      "source": [
        "#| fig-cap: \"**Fig.12 Evolution de l'accuracy du modèle selon la profondeur maximale de l'arbre**\"\n",
        "\n",
        "px.line(df, x='Max_depth', y='Accuracy', markers=True)"
      ],
      "id": "4d461fb7",
      "execution_count": null,
      "outputs": []
    },
    {
      "cell_type": "markdown",
      "metadata": {},
      "source": [
        "D'après ces résultats, passé une max_depth de 3, l'accuracy est au maximale, en effet en faisant un arbre avec une accuracy de 3, on obtient quasiment 100% des pingouins qui sont classer, avec une profondeur de 4, le tri est complet et tout les pingouins sont répartis dans une espèce selon ses caractéristiques morphologiques.\n"
      ],
      "id": "151ec64f"
    },
    {
      "cell_type": "code",
      "metadata": {},
      "source": [
        "model = DecisionTreeClassifier(max_depth=4)\n",
        "model.fit(X_train, y_train)"
      ],
      "id": "d29578f2",
      "execution_count": null,
      "outputs": []
    },
    {
      "cell_type": "code",
      "metadata": {},
      "source": [
        "#| fig-cap: \"**Fig.13 Arbre obtenu avec un profondeur max de 4**\"\n",
        "\n",
        "# agrandissement de la taille du graphique\n",
        "fig = plt.figure(figsize=(14, 6))\n",
        "_ = plot_tree(model,\n",
        "          feature_names=model.feature_names_in_,\n",
        "          filled=True,\n",
        "          rounded=True,\n",
        "          fontsize=10)"
      ],
      "id": "5c23e432",
      "execution_count": null,
      "outputs": []
    },
    {
      "cell_type": "code",
      "metadata": {},
      "source": [
        "model.classes_"
      ],
      "id": "7c25a3b3",
      "execution_count": null,
      "outputs": []
    },
    {
      "cell_type": "code",
      "metadata": {},
      "source": [
        "model.feature_importances_"
      ],
      "id": "109f6ccf",
      "execution_count": null,
      "outputs": []
    },
    {
      "cell_type": "code",
      "metadata": {},
      "source": [
        "pd.DataFrame({'Variable explicative':model.feature_names_in_, 'Valeur':model.feature_importances_})"
      ],
      "id": "8a96bacb",
      "execution_count": null,
      "outputs": []
    },
    {
      "cell_type": "markdown",
      "metadata": {},
      "source": [
        "Pour finir, on observe l'importance de chaque varible explicative dans la détermination de l'espèce."
      ],
      "id": "57feee22"
    }
  ],
  "metadata": {
    "kernelspec": {
      "name": "python3",
      "language": "python",
      "display_name": "Python 3 (ipykernel)"
    }
  },
  "nbformat": 4,
  "nbformat_minor": 5
}